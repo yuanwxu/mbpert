{
  "nbformat": 4,
  "nbformat_minor": 0,
  "metadata": {
    "colab": {
      "name": "mbpert.ipynb",
      "provenance": [],
      "authorship_tag": "ABX9TyNx5QQ0JJEestAaGaGxed11",
      "include_colab_link": true
    },
    "kernelspec": {
      "name": "python3",
      "display_name": "Python 3"
    },
    "language_info": {
      "name": "python"
    }
  },
  "cells": [
    {
      "cell_type": "markdown",
      "metadata": {
        "id": "view-in-github",
        "colab_type": "text"
      },
      "source": [
        "<a href=\"https://colab.research.google.com/github/yuanwxu/mbpert/blob/main/mbpert.ipynb\" target=\"_parent\"><img src=\"https://colab.research.google.com/assets/colab-badge.svg\" alt=\"Open In Colab\"/></a>"
      ]
    },
    {
      "cell_type": "code",
      "execution_count": null,
      "metadata": {
        "id": "2ac4O_2afcor"
      },
      "outputs": [],
      "source": [
        "import torch\n",
        "from torch import nn\n",
        "import numpy as np\n",
        "from scipy import linalg\n",
        "from scipy.integrate import solve_ivp"
      ]
    },
    {
      "cell_type": "code",
      "source": [
        "class RK45():\n",
        "  \"\"\"explicit Runge-Kutta method of order 5(4)\"\"\"\n",
        "\n",
        "  # Butcher tableau \n",
        "  # https://github.com/scipy/scipy/blob/b5d8bab88af61d61de09641243848df63380a67f/scipy/integrate/_ivp/rk.py#L280\n",
        "  n_stages = 6\n",
        "  C = torch.tensor([0, 1/5, 3/10, 4/5, 8/9, 1])\n",
        "  A = torch.tensor([\n",
        "      [0, 0, 0, 0, 0],\n",
        "      [1/5, 0, 0, 0, 0],\n",
        "      [3/40, 9/40, 0, 0, 0],\n",
        "      [44/45, -56/15, 32/9, 0, 0],\n",
        "      [19372/6561, -25360/2187, 64448/6561, -212/729, 0],\n",
        "      [9017/3168, -355/33, 46732/5247, 49/176, -5103/18656]\n",
        "  ])\n",
        "  B = torch.tensor([35/384, 0, 500/1113, 125/192, -2187/6784, 11/84])\n",
        "\n",
        "  def __init__(self, fun, t_span, step_size, args):\n",
        "    self.t0, self.tf = map(float, t_span)\n",
        "    \n",
        "    # This line is from the source code of scipy's `solve_ivp`. It wraps the user\n",
        "    # function in a lambda to hide additional arguments.\n",
        "    self.fun = lambda t, x, fun=fun: fun(t, x, *args)\n",
        "\n",
        "    self.h = step_size\n",
        "\n",
        "\n",
        "  # This is a rewrite of `rk_step` in scipy.integrate.solve_ivp source code using Pytorch tensors\n",
        "  def _step(self, t, y, f, K):\n",
        "    \"\"\"Perform a single Runge-Kutta step.\n",
        "    Parameters as in https://github.com/scipy/scipy/blob/b5d8bab88af61d61de09641243848df63380a67f/scipy/integrate/_ivp/rk.py#L14\n",
        "\n",
        "    Returns\n",
        "    -------\n",
        "    y_new : ndarray, shape (n,)\n",
        "        Solution at t + h computed with a higher accuracy.\n",
        "    f_new : ndarray, shape (n,)\n",
        "        Derivative ``fun(t + h, y_new)``.\n",
        "    \"\"\"\n",
        "    K[0] = f\n",
        "    for s, (a, c) in enumerate(zip(RK45.A[1:], RK45.C[1:]), start=1):\n",
        "        dy = torch.matmul(K[:s].T, a[:s]) * self.h\n",
        "        K[s] = self.fun(t + c * self.h, y + dy)\n",
        "\n",
        "    y_new = y + self.h * torch.matmul(K[:-1].T, RK45.B)\n",
        "    f_new = self.fun(t + self.h, y_new)\n",
        "\n",
        "    K[-1] = f_new\n",
        "\n",
        "    return y_new, f_new    \n",
        "\n",
        "\n",
        "  def solve(self, y):\n",
        "    # Storage for RK stages\n",
        "    K = torch.empty((RK45.n_stages + 1, y.numel()), dtype=y.dtype)\n",
        "\n",
        "    # Initial time and derivative\n",
        "    t = self.t0\n",
        "    f = self.fun(t, y)\n",
        "    #print(f\"Initial t={t}, f={f}, x0={y}\\n\\n\")\n",
        "\n",
        "    while t <= self.tf:\n",
        "      y_new, f_new = self._step(t, y, f, K)\n",
        "      \n",
        "      #print(f\"Next f={f_new}, state={y_new}\\n\")\n",
        "\n",
        "      # Stop early when the prediction is unbounded\n",
        "      if torch.any(y_new.isnan() | \n",
        "                   (y_new.abs() > 1e6) |\n",
        "                   (f_new.abs() >1e2)):\n",
        "        print(\"Unbounded function prediction, stop early so not integarating the whole range.\")\n",
        "        break\n",
        "\n",
        "      t += self.h\n",
        "      y = y_new\n",
        "      f = f_new\n",
        "\n",
        "    #if f_new.detach().abs().mean().item() >= 1e-3:\n",
        "    #  print(\"ODE solver did not converge to steady state solution in the given time range and step size.\")\n",
        "\n",
        "    return y\n"
      ],
      "metadata": {
        "id": "iCGbpFk64RcW"
      },
      "execution_count": null,
      "outputs": []
    },
    {
      "cell_type": "code",
      "source": [
        "# A helper to reshape a tensor in Fortran-like order\n",
        "# Reference: https://stackoverflow.com/questions/63960352/reshaping-order-in-pytorch-fortran-like-index-ordering\n",
        "def reshape_fortran(x, shape):\n",
        "    if len(x.shape) > 0:\n",
        "        x = x.permute(*reversed(range(len(x.shape))))\n",
        "    return x.reshape(*reversed(shape)).permute(*reversed(range(len(shape))))"
      ],
      "metadata": {
        "id": "k10z8K3Ya9Dg"
      },
      "execution_count": null,
      "outputs": []
    },
    {
      "cell_type": "code",
      "source": [
        "def glvp(t, x, r, A, eps, p):\n",
        "    \"\"\"Define generalized lotka-volterra dynamic system with perturbations\n",
        "       To vectorized over conditions, create a long state vector holding \n",
        "       species abundances at time t across all conditions\n",
        "\n",
        "       x --- (n_species*n_conds,) Species (dimensionless) absolute abundances \n",
        "                                  under all pert conditions. Formed by contiguous\n",
        "                                  blocks of species abundances, where each block\n",
        "                                  corresponds to a condition\n",
        "       r --- (n_species) Growth rate\n",
        "       A --- (n_species, n_species) Species interaction matrix\n",
        "       eps --- (n_species,) Species susceptibility to perturbation\n",
        "    \"\"\"\n",
        "    x = reshape_fortran(x, p.shape)\n",
        "    out = x * (r[:, None] + A @ x + eps[:, None] * p)\n",
        "    return reshape_fortran(out, (-1,))"
      ],
      "metadata": {
        "id": "YN8ezuo946Da"
      },
      "execution_count": null,
      "outputs": []
    },
    {
      "cell_type": "code",
      "source": [
        "# numpy version\n",
        "def glvp2(t, x, r, A, eps, p):\n",
        "    \"\"\"To vectorize over conditions, create a long state vector of shape (n_specis*n_conds,)\n",
        "       of contiguous blocks of species abundance, where each block corresponds to a condition\n",
        "    \"\"\"\n",
        "    x = x.reshape(p.shape, order='F')\n",
        "    out = x * (r[:, np.newaxis] + A @ x + eps[:, np.newaxis] * p)\n",
        "    return np.ravel(out, order='F')"
      ],
      "metadata": {
        "id": "WIvUjq-wyuc-"
      },
      "execution_count": null,
      "outputs": []
    },
    {
      "cell_type": "code",
      "source": [
        "class MBPert(nn.Module):\n",
        "  def __init__(self, U):\n",
        "    \"\"\"U (torch.Tensor): perturbation matrix of shape (n_species, n_conds)\"\"\"\n",
        "    super().__init__()\n",
        "    n_species = U.shape[0]\n",
        "    self.r = nn.Parameter(torch.rand((n_species, )))\n",
        "    self.eps = nn.Parameter(torch.randn(n_species, ))\n",
        "\n",
        "    # Proper initialization of interaction matrix for stability\n",
        "    self.A = 1 / (2 * n_species**(0.5)) * torch.randn(n_species, n_species)\n",
        "    self.A = nn.Parameter(self.A.fill_diagonal_(-1))\n",
        "    # mask = ~torch.eye(n_species, dtype=torch.bool)\n",
        "    # self.A = -torch.eye(n_species) # making diag elements -1\n",
        "    # self.A[mask] = 1 / (2 * n_species**(0.5)) * torch.randn(n_species**2 - n_species, requires_grad=True)\n",
        "    # self.A = nn.Parameter(self.A)\n",
        "\n",
        "    self.p = U\n",
        "    self.solver = RK45(glvp, [0,20], 1e-1, args=(self.r, self.A, self.eps, self.p))\n",
        "\n",
        "  def forward(self, x):\n",
        "    return self.solver.solve(x)\n",
        "    "
      ],
      "metadata": {
        "id": "t8kYT1UxqLWh"
      },
      "execution_count": null,
      "outputs": []
    },
    {
      "cell_type": "markdown",
      "source": [
        "**Test on toy example**"
      ],
      "metadata": {
        "id": "o4tYCt9Da3Yq"
      }
    },
    {
      "cell_type": "code",
      "source": [
        "def get_ode_params(n_species, p, seed=None):\n",
        "    \"\"\"Get ODE parameters suited for simulation. \n",
        "       \n",
        "    Args:\n",
        "        n_species (int): number of species\n",
        "        p (nparray): perturbation matrix returned from pert_mat() \n",
        "    \n",
        "    Returns:\n",
        "        (growth rate r, interaction matrix A, susceptibility vector eps,\n",
        "         steady state solutions across all pert conditions)\n",
        "    \"\"\"\n",
        "    if n_species != p.shape[0]:\n",
        "        raise ValueError(\n",
        "            \"Number of species does not match first dimension of pert matrix.\")\n",
        "\n",
        "    rng = np.random.default_rng(seed)\n",
        "    i = 0\n",
        "    while True:\n",
        "        i += 1\n",
        "        # Diagonal of A: a_{ii} = -1, off-diag a_{ij} ~ N(0,1/(4n))\n",
        "        A = rng.normal(0, 1 / (2 * n_species**(0.5)), (n_species, n_species))\n",
        "        np.fill_diagonal(A, -1)\n",
        "\n",
        "        # r: Unif(0, 1)\n",
        "        r = rng.random((n_species, ))\n",
        "\n",
        "        # eps: Unif(-0.2,1)\n",
        "        eps = rng.uniform(-0.2, 1, (n_species, ))\n",
        "\n",
        "        # Steady state solution across all pert conditions\n",
        "        X_ss = -linalg.inv(A) @ (r[:, np.newaxis] + eps[:, np.newaxis] * p)\n",
        "\n",
        "        # Check all solutions are positive\n",
        "        if np.all(X_ss > 0):\n",
        "            break\n",
        "\n",
        "        if i >= 500:\n",
        "            print(\n",
        "                f'''Failed to find an all positive steady-state solutions across all \n",
        "                perturbation conditions after {i} attempts. Return a steady state \n",
        "                solution with negative entries.''')\n",
        "            break\n",
        "\n",
        "    return (r, A, eps, X_ss)  # namedtuple?"
      ],
      "metadata": {
        "id": "3C0v4m_NaxYk"
      },
      "execution_count": null,
      "outputs": []
    },
    {
      "cell_type": "code",
      "source": [
        "x0 = reshape_fortran(0.2 * torch.ones((3,3)), (-1,)) # 3 species, 3 conditions\n",
        "p = torch.eye(3) # 3 single-species perturbations\n",
        "r, A, eps, X_ss = get_ode_params(3, p.numpy(), seed=0)\n",
        "x_true = torch.from_numpy(X_ss.astype('float32').reshape(-1, order='F'))"
      ],
      "metadata": {
        "id": "o2uzQdErb70L"
      },
      "execution_count": null,
      "outputs": []
    },
    {
      "cell_type": "code",
      "source": [
        "print(f'x0: {x0}\\n')\n",
        "print(f'p: {p}\\n')\n",
        "print(f'x_true: {x_true}\\n')"
      ],
      "metadata": {
        "colab": {
          "base_uri": "https://localhost:8080/"
        },
        "id": "xPwetau63PoS",
        "outputId": "7891c3d9-6509-4d6d-f0d8-01413ef835e6"
      },
      "execution_count": null,
      "outputs": [
        {
          "output_type": "stream",
          "name": "stdout",
          "text": [
            "x0: tensor([0.2000, 0.2000, 0.2000, 0.2000, 0.2000, 0.2000, 0.2000, 0.2000, 0.2000])\n",
            "\n",
            "p: tensor([[1., 0., 0.],\n",
            "        [0., 1., 0.],\n",
            "        [0., 0., 1.]])\n",
            "\n",
            "x_true: tensor([1.9095, 0.9769, 0.9886, 1.0155, 0.7485, 0.5896, 1.1531, 0.9953, 1.3845])\n",
            "\n"
          ]
        }
      ]
    },
    {
      "cell_type": "code",
      "source": [
        "mbpert = MBPert(p)\n",
        "criterion = torch.nn.MSELoss()\n",
        "optimizer = torch.optim.Adam(mbpert.parameters()) # Adam is much better than SGD in this case\n",
        "#optimizer = torch.optim.SGD(mbpert.parameters(), lr=1e-3)"
      ],
      "metadata": {
        "id": "xHT5foEOc23d"
      },
      "execution_count": null,
      "outputs": []
    },
    {
      "cell_type": "code",
      "source": [
        "for i in range(400):\n",
        "    # Forward pass\n",
        "    x_pred = mbpert(x0)\n",
        "\n",
        "    # Compute and print loss\n",
        "    loss = criterion(x_pred, x_true)\n",
        "    if i % 50 == 49:\n",
        "        print(f\"i={i}, loss={loss.item()}, x_pred={x_pred}\") \n",
        "\n",
        "    # Zero gradients, perform a backward pass, and update parameters\n",
        "    optimizer.zero_grad()\n",
        "    loss.backward()\n",
        "    optimizer.step()"
      ],
      "metadata": {
        "colab": {
          "base_uri": "https://localhost:8080/"
        },
        "id": "_A_pp_OfrSyY",
        "outputId": "fcd18b82-3fe7-4626-f252-cc32ce71568f"
      },
      "execution_count": null,
      "outputs": [
        {
          "output_type": "stream",
          "name": "stdout",
          "text": [
            "i=49, loss=0.6304702162742615, x_pred=tensor([0.1588, 0.9540, 0.5373, 0.1130, 0.1930, 0.7643, 0.0784, 0.9718, 1.0748],\n",
            "       grad_fn=<AddBackward0>)\n",
            "i=99, loss=0.4330136477947235, x_pred=tensor([0.4588, 1.0868, 0.4836, 0.2853, 0.3504, 0.7058, 0.3092, 1.1315, 1.0851],\n",
            "       grad_fn=<AddBackward0>)\n",
            "i=149, loss=0.2534507215023041, x_pred=tensor([0.7812, 1.2150, 0.5827, 0.4884, 0.5018, 0.7762, 0.5908, 1.2747, 1.2474],\n",
            "       grad_fn=<AddBackward0>)\n",
            "i=199, loss=0.1249798834323883, x_pred=tensor([1.1154, 1.2279, 0.6764, 0.7104, 0.5682, 0.8224, 0.8894, 1.2833, 1.3458],\n",
            "       grad_fn=<AddBackward0>)\n",
            "i=249, loss=0.05721984803676605, x_pred=tensor([1.3982, 1.1691, 0.7443, 0.8972, 0.5695, 0.8403, 1.1294, 1.2131, 1.3793],\n",
            "       grad_fn=<AddBackward0>)\n",
            "i=299, loss=0.03296193107962608, x_pred=tensor([1.5817, 1.1019, 0.7854, 1.0121, 0.5533, 0.8387, 1.2646, 1.1358, 1.3787],\n",
            "       grad_fn=<AddBackward0>)\n",
            "i=349, loss=0.02518528141081333, x_pred=tensor([1.6744, 1.0637, 0.8109, 1.0621, 0.5504, 0.8296, 1.3097, 1.0881, 1.3708],\n",
            "       grad_fn=<AddBackward0>)\n",
            "i=399, loss=0.020960893481969833, x_pred=tensor([1.7183, 1.0502, 0.8291, 1.0775, 0.5605, 0.8190, 1.3091, 1.0644, 1.3657],\n",
            "       grad_fn=<AddBackward0>)\n"
          ]
        }
      ]
    },
    {
      "cell_type": "code",
      "source": [
        "print(x_true)\n",
        "print(f'Estimated A: {mbpert.A}\\nTrue: {A}\\n')\n",
        "print(f'Estimated r:{mbpert.r}\\nTrue: {r}\\n')\n",
        "print(f'Estimated eps: {mbpert.eps}\\nTrue: {eps}\\n')"
      ],
      "metadata": {
        "colab": {
          "base_uri": "https://localhost:8080/"
        },
        "id": "7k458EjfONjF",
        "outputId": "26ca41ab-928f-4588-8104-0485fb03c639"
      },
      "execution_count": null,
      "outputs": [
        {
          "output_type": "stream",
          "name": "stdout",
          "text": [
            "tensor([1.9095, 0.9769, 0.9886, 1.0155, 0.7485, 0.5896, 1.1531, 0.9953, 1.3845])\n",
            "Estimated A: Parameter containing:\n",
            "tensor([[-0.6572, -0.0185,  0.2996],\n",
            "        [ 0.1113, -1.2442,  0.4821],\n",
            "        [ 0.2032, -0.1336, -1.0052]], requires_grad=True)\n",
            "True: [[-1.         -0.03813539  0.18487409]\n",
            " [ 0.03028206 -1.          0.1043835 ]\n",
            " [ 0.37643239  0.27339872 -1.        ]]\n",
            "\n",
            "Estimated r:Parameter containing:\n",
            "tensor([0.3427, 0.3189, 0.5595], requires_grad=True)\n",
            "True: [0.93507242 0.81585355 0.0027385 ]\n",
            "\n",
            "Estimated eps: Parameter containing:\n",
            "tensor([0.7611, 0.8222, 0.8329], requires_grad=True)\n",
            "True: [ 0.82888513 -0.15969731  0.67558654]\n",
            "\n"
          ]
        }
      ]
    },
    {
      "cell_type": "markdown",
      "source": [
        "**Test ODE solver**"
      ],
      "metadata": {
        "id": "z-KZC0Btlqld"
      }
    },
    {
      "cell_type": "code",
      "source": [
        "r.dtype, p.dtype"
      ],
      "metadata": {
        "colab": {
          "base_uri": "https://localhost:8080/"
        },
        "id": "OcclJhfYtnvU",
        "outputId": "59a82047-4f00-4684-891b-e5245a532e76"
      },
      "execution_count": null,
      "outputs": [
        {
          "output_type": "execute_result",
          "data": {
            "text/plain": [
              "(dtype('float64'), torch.float32)"
            ]
          },
          "metadata": {},
          "execution_count": 34
        }
      ]
    },
    {
      "cell_type": "code",
      "source": [
        "r, A, eps, X_ss = get_ode_params(3, p.numpy(), seed=0)\n",
        "solver = RK45(glvp, [0,20], 1e-2, args=(torch.from_numpy(r.astype('float32')), torch.from_numpy(A.astype('float32')), torch.from_numpy(eps.astype('float32')), p))"
      ],
      "metadata": {
        "id": "w1cP9iG6jPI2"
      },
      "execution_count": null,
      "outputs": []
    },
    {
      "cell_type": "code",
      "source": [
        "x_pred = solver.solve(x0)"
      ],
      "metadata": {
        "id": "VIWJFR8Ysn3I"
      },
      "execution_count": null,
      "outputs": []
    },
    {
      "cell_type": "code",
      "source": [
        "x_pred"
      ],
      "metadata": {
        "colab": {
          "base_uri": "https://localhost:8080/"
        },
        "id": "c77I_qV7xxbd",
        "outputId": "0edcf417-9303-4520-8bcd-f2195d37ab28"
      },
      "execution_count": null,
      "outputs": [
        {
          "output_type": "execute_result",
          "data": {
            "text/plain": [
              "tensor([1.9095, 0.9769, 0.9886, 1.0154, 0.7484, 0.5894, 1.1531, 0.9953, 1.3845])"
            ]
          },
          "metadata": {},
          "execution_count": 38
        }
      ]
    },
    {
      "cell_type": "code",
      "source": [
        "# Now use scipy's solve_ivp\n",
        "sol = solve_ivp(glvp2, [0, 20], x0.numpy(), args=(r, A, eps, p.numpy()))"
      ],
      "metadata": {
        "id": "ZbtxzDHwx1vI"
      },
      "execution_count": null,
      "outputs": []
    },
    {
      "cell_type": "code",
      "source": [
        "sol.y[:,-1] # should be similar to x_pred"
      ],
      "metadata": {
        "colab": {
          "base_uri": "https://localhost:8080/"
        },
        "id": "OUk3yf6Uy_a-",
        "outputId": "245ca10e-e4c3-4305-adcd-43c789bf95ee"
      },
      "execution_count": null,
      "outputs": [
        {
          "output_type": "execute_result",
          "data": {
            "text/plain": [
              "array([1.91097956, 0.97688841, 0.98805588, 1.01544636, 0.74836967,\n",
              "       0.58935627, 1.15307287, 0.99528851, 1.38448868])"
            ]
          },
          "metadata": {},
          "execution_count": 41
        }
      ]
    },
    {
      "cell_type": "markdown",
      "source": [
        "**General testing**"
      ],
      "metadata": {
        "id": "9O-KIGTI0KGb"
      }
    },
    {
      "cell_type": "code",
      "source": [
        "torch.nn.Parameter(torch.randn((2,2)))"
      ],
      "metadata": {
        "colab": {
          "base_uri": "https://localhost:8080/"
        },
        "id": "FSiCUCFXq3qX",
        "outputId": "3a3fecb9-6d21-416f-ffd2-840e78d4934b"
      },
      "execution_count": null,
      "outputs": [
        {
          "output_type": "execute_result",
          "data": {
            "text/plain": [
              "Parameter containing:\n",
              "tensor([[-0.9155,  0.6164],\n",
              "        [ 0.1008,  0.7246]], requires_grad=True)"
            ]
          },
          "metadata": {},
          "execution_count": 5
        }
      ]
    },
    {
      "cell_type": "code",
      "source": [
        "A = nn.Parameter(torch.randn(3, 3))"
      ],
      "metadata": {
        "id": "ZqfpQSbDrUeK"
      },
      "execution_count": null,
      "outputs": []
    },
    {
      "cell_type": "code",
      "source": [
        "A.numel()"
      ],
      "metadata": {
        "colab": {
          "base_uri": "https://localhost:8080/"
        },
        "id": "G2Hp0OO1aB5A",
        "outputId": "4faedcf3-a07d-4089-9f3d-ea11b3b889bf"
      },
      "execution_count": null,
      "outputs": [
        {
          "output_type": "execute_result",
          "data": {
            "text/plain": [
              "9"
            ]
          },
          "metadata": {},
          "execution_count": 5
        }
      ]
    },
    {
      "cell_type": "code",
      "source": [
        "A.data.fill_diagonal_(-1)"
      ],
      "metadata": {
        "colab": {
          "base_uri": "https://localhost:8080/"
        },
        "id": "eYUM8sB7zSi-",
        "outputId": "97803dda-cc23-4326-d487-3d06afd5d147"
      },
      "execution_count": null,
      "outputs": [
        {
          "output_type": "execute_result",
          "data": {
            "text/plain": [
              "tensor([[-1.0000,  1.3261,  1.2774],\n",
              "        [-0.9245, -1.0000, -0.0726],\n",
              "        [-1.1760,  0.0340, -1.0000]])"
            ]
          },
          "metadata": {},
          "execution_count": 13
        }
      ]
    },
    {
      "cell_type": "code",
      "source": [
        "A.dtype"
      ],
      "metadata": {
        "colab": {
          "base_uri": "https://localhost:8080/"
        },
        "id": "PB7KU9XUvT7J",
        "outputId": "76d35413-c7f1-4f90-cc97-8f9742aff8c5"
      },
      "execution_count": null,
      "outputs": [
        {
          "output_type": "execute_result",
          "data": {
            "text/plain": [
              "torch.float32"
            ]
          },
          "metadata": {},
          "execution_count": 6
        }
      ]
    },
    {
      "cell_type": "code",
      "source": [
        "a = torch.tensor([1,1,1])\n",
        "a"
      ],
      "metadata": {
        "colab": {
          "base_uri": "https://localhost:8080/"
        },
        "id": "zKtDXZzRvUcN",
        "outputId": "7eca4817-897a-4c18-bbfa-3edba728ae39"
      },
      "execution_count": null,
      "outputs": [
        {
          "output_type": "execute_result",
          "data": {
            "text/plain": [
              "tensor([1, 1, 1])"
            ]
          },
          "metadata": {},
          "execution_count": 2
        }
      ]
    },
    {
      "cell_type": "code",
      "source": [
        "a[:,None].shape"
      ],
      "metadata": {
        "colab": {
          "base_uri": "https://localhost:8080/"
        },
        "id": "rO5Cifqf6_JW",
        "outputId": "573799b8-06e9-4e6c-e7f3-fdcc8f840fdf"
      },
      "execution_count": null,
      "outputs": [
        {
          "output_type": "execute_result",
          "data": {
            "text/plain": [
              "torch.Size([3, 1])"
            ]
          },
          "metadata": {},
          "execution_count": 31
        }
      ]
    },
    {
      "cell_type": "code",
      "source": [
        "b = torch.arange(1,16).reshape(3,5)"
      ],
      "metadata": {
        "id": "x09yuKbD7CAp"
      },
      "execution_count": null,
      "outputs": []
    },
    {
      "cell_type": "code",
      "source": [
        "b"
      ],
      "metadata": {
        "colab": {
          "base_uri": "https://localhost:8080/"
        },
        "id": "xh1Dggpd7TrY",
        "outputId": "d8a233d8-1fef-40f5-e8b5-fb334bc45bfa"
      },
      "execution_count": null,
      "outputs": [
        {
          "output_type": "execute_result",
          "data": {
            "text/plain": [
              "tensor([[ 1,  2,  3,  4,  5],\n",
              "        [ 6,  7,  8,  9, 10],\n",
              "        [11, 12, 13, 14, 15]])"
            ]
          },
          "metadata": {},
          "execution_count": 4
        }
      ]
    },
    {
      "cell_type": "code",
      "source": [
        "a[:,None] + b"
      ],
      "metadata": {
        "colab": {
          "base_uri": "https://localhost:8080/"
        },
        "id": "KIDiMSgl71Ah",
        "outputId": "3086eb08-62a4-4f06-b7de-d7ce6466800f"
      },
      "execution_count": null,
      "outputs": [
        {
          "output_type": "execute_result",
          "data": {
            "text/plain": [
              "tensor([[ 2,  3,  4,  5,  6],\n",
              "        [ 7,  8,  9, 10, 11],\n",
              "        [12, 13, 14, 15, 16]])"
            ]
          },
          "metadata": {},
          "execution_count": 32
        }
      ]
    },
    {
      "cell_type": "code",
      "source": [
        "(a[:,None] + 1) * b"
      ],
      "metadata": {
        "colab": {
          "base_uri": "https://localhost:8080/"
        },
        "id": "kOquloqz8TqL",
        "outputId": "b0f31f23-9208-4f15-e4b8-0a1f0b37e62d"
      },
      "execution_count": null,
      "outputs": [
        {
          "output_type": "execute_result",
          "data": {
            "text/plain": [
              "tensor([[ 2,  4,  6,  8, 10],\n",
              "        [12, 14, 16, 18, 20],\n",
              "        [22, 24, 26, 28, 30]])"
            ]
          },
          "metadata": {},
          "execution_count": 34
        }
      ]
    },
    {
      "cell_type": "code",
      "source": [
        "torch.abs(torch.tensor(torch.inf)) > 1e6"
      ],
      "metadata": {
        "colab": {
          "base_uri": "https://localhost:8080/"
        },
        "id": "LWTttjcFSK0_",
        "outputId": "fd2a44d2-8c94-4e46-ce39-a31725fdba85"
      },
      "execution_count": null,
      "outputs": [
        {
          "output_type": "execute_result",
          "data": {
            "text/plain": [
              "tensor(True)"
            ]
          },
          "metadata": {},
          "execution_count": 25
        }
      ]
    },
    {
      "cell_type": "code",
      "source": [
        ""
      ],
      "metadata": {
        "id": "icpkxbqmdbvm"
      },
      "execution_count": null,
      "outputs": []
    }
  ]
}