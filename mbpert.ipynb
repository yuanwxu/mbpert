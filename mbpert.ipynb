{
  "nbformat": 4,
  "nbformat_minor": 0,
  "metadata": {
    "colab": {
      "name": "mbpert.ipynb",
      "provenance": [],
      "collapsed_sections": [],
      "authorship_tag": "ABX9TyM7Wfcsm8R2FBvcHOForBeU",
      "include_colab_link": true
    },
    "kernelspec": {
      "name": "python3",
      "display_name": "Python 3"
    },
    "language_info": {
      "name": "python"
    }
  },
  "cells": [
    {
      "cell_type": "markdown",
      "metadata": {
        "id": "view-in-github",
        "colab_type": "text"
      },
      "source": [
        "<a href=\"https://colab.research.google.com/github/yuanwxu/mbpert/blob/main/mbpert.ipynb\" target=\"_parent\"><img src=\"https://colab.research.google.com/assets/colab-badge.svg\" alt=\"Open In Colab\"/></a>"
      ]
    },
    {
      "cell_type": "code",
      "execution_count": null,
      "metadata": {
        "id": "2ac4O_2afcor"
      },
      "outputs": [],
      "source": [
        "import torch\n",
        "from torch import nn\n",
        "import numpy as np\n",
        "from scipy import linalg\n",
        "from scipy.integrate import solve_ivp"
      ]
    },
    {
      "cell_type": "code",
      "source": [
        "# These constants are definied the same as in `scipy.integrate.solve_ivp`\n",
        "SAFETY = 0.9\n",
        "MIN_FACTOR = 0.2  # Minimum allowed decrease in a step size.\n",
        "MAX_FACTOR = 10  # Maximum allowed increase in a step size.\n",
        "\n",
        "class RK45():\n",
        "  \"\"\"explicit Runge-Kutta method of order 5(4)\"\"\"\n",
        "\n",
        "  # Butcher tableau \n",
        "  # https://github.com/scipy/scipy/blob/b5d8bab88af61d61de09641243848df63380a67f/scipy/integrate/_ivp/rk.py#L280\n",
        "  n_stages = 6\n",
        "  error_estimator_order = 4\n",
        "  C = torch.tensor([0, 1/5, 3/10, 4/5, 8/9, 1])\n",
        "  A = torch.tensor([\n",
        "      [0, 0, 0, 0, 0],\n",
        "      [1/5, 0, 0, 0, 0],\n",
        "      [3/40, 9/40, 0, 0, 0],\n",
        "      [44/45, -56/15, 32/9, 0, 0],\n",
        "      [19372/6561, -25360/2187, 64448/6561, -212/729, 0],\n",
        "      [9017/3168, -355/33, 46732/5247, 49/176, -5103/18656]\n",
        "  ])\n",
        "  B = torch.tensor([35/384, 0, 500/1113, 125/192, -2187/6784, 11/84])\n",
        "  E = torch.tensor([-71/57600, 0, 71/16695, -71/1920, 17253/339200, -22/525, 1/40])\n",
        "\n",
        "  def __init__(self, fun, t_span, args, first_step=1e-3):\n",
        "    # Begining and end time points of integration\n",
        "    self.t0, self.tf = map(float, t_span)\n",
        "    \n",
        "    # This line is from the source code of scipy's `solve_ivp`. It wraps the user\n",
        "    # function in a lambda to hide additional arguments.\n",
        "    self.fun = lambda t, x, fun=fun: fun(t, x, *args)\n",
        "\n",
        "    # Relative and absolute tolerance as in solve_ivp\n",
        "    self.rtol, self.atol = 1e-3, 1e-6\n",
        "\n",
        "    # Initial step size, assume direction of integration is always positive, i.e, h > 0\n",
        "    self.h0 = first_step\n",
        "\n",
        "    # For use in updating step size\n",
        "    # https://en.wikipedia.org/wiki/Adaptive_step_size#Embedded_error_estimates\n",
        "    self.error_exponent = -1 / (self.error_estimator_order + 1)\n",
        "\n",
        "\n",
        "  # This is a rewrite of `rk_step` in scipy.integrate.solve_ivp source code using Pytorch tensors\n",
        "  def _step_rk(self, t, y, f, h, K):\n",
        "    \"\"\"Perform a single Runge-Kutta step.\n",
        "    Parameters as in https://github.com/scipy/scipy/blob/b5d8bab88af61d61de09641243848df63380a67f/scipy/integrate/_ivp/rk.py#L14\n",
        "\n",
        "    Returns\n",
        "    -------\n",
        "    y_new : ndarray, shape (n,)\n",
        "        Solution at t + h computed with a higher accuracy.\n",
        "    f_new : ndarray, shape (n,)\n",
        "        Derivative ``fun(t + h, y_new)``.\n",
        "    \"\"\"\n",
        "    K[0] = f\n",
        "    for s, (a, c) in enumerate(zip(RK45.A[1:], RK45.C[1:]), start=1):\n",
        "        dy = torch.matmul(torch.t(K[:s]), a[:s]) * h\n",
        "        K[s] = self.fun(t + c * h, y + dy)\n",
        "\n",
        "    y_new = y + h * torch.matmul(torch.t(K[:-1]), RK45.B)\n",
        "    f_new = self.fun(t + h, y_new)\n",
        "\n",
        "    K[-1] = f_new\n",
        "\n",
        "    return y_new, f_new    \n",
        "\n",
        "  # These two methods are equivalent to those in scipy `solve_ivp`\n",
        "  def _estimate_error(self, K, h):\n",
        "    return torch.matmul(torch.t(K), self.E) * h\n",
        "\n",
        "  # NOTE: the `.item()` following `norm()` is essential, omitting it will get\n",
        "  # runtime error \"inplace modification of variables requiring gradient\" that\n",
        "  # is hard to debug!\n",
        "  def _estimate_error_norm(self, K, h, scale):\n",
        "    x = self._estimate_error(K, h) / scale\n",
        "    return torch.linalg.norm(x).item() / x.numel() ** 0.5 \n",
        "    \n",
        "\n",
        "  # This is a rewrite of `_step_impl` using Pytorch tensors\n",
        "  def _step_impl(self):\n",
        "    # Current time, state and derivative \n",
        "    t, y, f = self.t, self.y, self.f\n",
        "\n",
        "    rtol = self.rtol\n",
        "    atol = self.atol\n",
        "    h = self.h # current step size\n",
        "\n",
        "    step_accepted = False\n",
        "    step_rejected = False\n",
        "\n",
        "    while not step_accepted:\n",
        "      t_new = t + h\n",
        "\n",
        "      if (t_new - self.tf) > 0:\n",
        "        t_new = self.tf\n",
        "\n",
        "      h = t_new - t\n",
        "\n",
        "      y_new, f_new = self._step_rk(t, y, f, h, self.K)\n",
        "      scale = atol + torch.maximum(torch.abs(y), torch.abs(y_new)) * rtol\n",
        "      error_norm = self._estimate_error_norm(self.K, h, scale)\n",
        "\n",
        "      if error_norm < 1:\n",
        "          if error_norm == 0:\n",
        "              factor = MAX_FACTOR\n",
        "          else:\n",
        "              factor = min(MAX_FACTOR, SAFETY * error_norm ** self.error_exponent)\n",
        "\n",
        "          if step_rejected:\n",
        "              factor = min(1, factor)\n",
        "\n",
        "          h *= factor\n",
        "\n",
        "          step_accepted = True\n",
        "      else:\n",
        "          h *= max(MIN_FACTOR, SAFETY * error_norm ** self.error_exponent)\n",
        "          step_rejected = True\n",
        "\n",
        "    # Update time, state, derivative and step size\n",
        "    self.t, self.y, self.f, self.h = t_new, y_new, f_new, h\n",
        "\n",
        "\n",
        "  def solve(self, y):\n",
        "    # Initial time, step size, state and derivative dy/dt = f(t,y)\n",
        "    self.t = self.t0\n",
        "    self.h = self.h0\n",
        "    self.y = y\n",
        "    self.f = self.fun(self.t0, self.y)\n",
        "\n",
        "    # Storage for RK stages\n",
        "    self.K = torch.empty((RK45.n_stages + 1, y.numel()), dtype=y.dtype)\n",
        "    \n",
        "    while self.t < self.tf:\n",
        "      self._step_impl()\n",
        "\n",
        "    if self.f.abs().mean().item() > 1e-3:\n",
        "      print(f'Mean absolute derivative at t={self.t}: {self.f.abs().mean().item()}')\n",
        "      # print(\"ODE solver did not converge to steady state solution in the given time range.\")\n",
        "\n",
        "    return self.y\n",
        "    \n",
        "\n",
        "  # # Stop early when the prediction is unbounded\n",
        "  # if torch.any(y_new.isnan() | \n",
        "  #               (y_new.abs() > 1e6) |\n",
        "  #               (f_new.abs() >1e2)):\n",
        "  #   print(\"Unbounded function prediction, stop early so not integarating the whole range.\")\n",
        "  #   break\n",
        "\n",
        "      \n"
      ],
      "metadata": {
        "id": "iCGbpFk64RcW"
      },
      "execution_count": null,
      "outputs": []
    },
    {
      "cell_type": "code",
      "source": [
        "# A helper to reshape a tensor in Fortran-like order\n",
        "# Reference: https://stackoverflow.com/questions/63960352/reshaping-order-in-pytorch-fortran-like-index-ordering\n",
        "def reshape_fortran(x, shape):\n",
        "    if len(x.shape) > 0:\n",
        "        x = x.permute(*reversed(range(len(x.shape))))\n",
        "    return x.reshape(*reversed(shape)).permute(*reversed(range(len(shape))))"
      ],
      "metadata": {
        "id": "k10z8K3Ya9Dg"
      },
      "execution_count": null,
      "outputs": []
    },
    {
      "cell_type": "code",
      "source": [
        "def glvp(t, x, r, A, eps, p):\n",
        "    \"\"\"Define generalized lotka-volterra dynamic system with perturbations\n",
        "       To vectorized over conditions, create a long state vector holding \n",
        "       species abundances at time t across all conditions\n",
        "\n",
        "       x --- (n_species*n_conds,) Species (dimensionless) absolute abundances \n",
        "                                  under all pert conditions. Formed by contiguous\n",
        "                                  blocks of species abundances, where each block\n",
        "                                  corresponds to a condition\n",
        "       r --- (n_species) Growth rate\n",
        "       A --- (n_species, n_species) Species interaction matrix\n",
        "       eps --- (n_species,) Species susceptibility to perturbation\n",
        "    \"\"\"\n",
        "    x = reshape_fortran(x, p.shape)\n",
        "    out = x * (r[:, None] + A @ x + eps[:, None] * p)\n",
        "    return reshape_fortran(out, (-1,))"
      ],
      "metadata": {
        "id": "YN8ezuo946Da"
      },
      "execution_count": null,
      "outputs": []
    },
    {
      "cell_type": "code",
      "source": [
        "# numpy version\n",
        "def glvp2(t, x, r, A, eps, p):\n",
        "    \"\"\"To vectorize over conditions, create a long state vector of shape (n_specis*n_conds,)\n",
        "       of contiguous blocks of species abundance, where each block corresponds to a condition\n",
        "    \"\"\"\n",
        "    x = x.reshape(p.shape, order='F')\n",
        "    out = x * (r[:, np.newaxis] + A @ x + eps[:, np.newaxis] * p)\n",
        "    return np.ravel(out, order='F')"
      ],
      "metadata": {
        "id": "WIvUjq-wyuc-"
      },
      "execution_count": null,
      "outputs": []
    },
    {
      "cell_type": "code",
      "source": [
        "class MBPert(nn.Module):\n",
        "  def __init__(self, U):\n",
        "    \"\"\"U (torch.Tensor): perturbation matrix of shape (n_species, n_conds)\"\"\"\n",
        "    super().__init__()\n",
        "    n_species = U.shape[0]\n",
        "    self.r = nn.Parameter(torch.rand((n_species, )))\n",
        "    self.eps = nn.Parameter(torch.randn(n_species, ))\n",
        "\n",
        "    # Proper initialization of interaction matrix for stability\n",
        "    self.A = 1 / (2 * n_species**(0.5)) * torch.randn(n_species, n_species)\n",
        "    self.A = nn.Parameter(self.A.fill_diagonal_(-1))\n",
        "    # mask = ~torch.eye(n_species, dtype=torch.bool)\n",
        "    # self.A = -torch.eye(n_species) # making diag elements -1\n",
        "    # self.A[mask] = 1 / (2 * n_species**(0.5)) * torch.randn(n_species**2 - n_species, requires_grad=True)\n",
        "    # self.A = nn.Parameter(self.A)\n",
        "\n",
        "    self.p = U\n",
        "    self.solver = RK45(glvp, [0,20], args=(self.r, self.A, self.eps, self.p))\n",
        "\n",
        "  def forward(self, x):\n",
        "    return self.solver.solve(x)\n",
        "    "
      ],
      "metadata": {
        "id": "t8kYT1UxqLWh"
      },
      "execution_count": null,
      "outputs": []
    },
    {
      "cell_type": "markdown",
      "source": [
        "**Test on toy example**"
      ],
      "metadata": {
        "id": "o4tYCt9Da3Yq"
      }
    },
    {
      "cell_type": "code",
      "source": [
        "def get_ode_params(n_species, p, seed=None):\n",
        "    \"\"\"Get ODE parameters suited for simulation. \n",
        "       \n",
        "    Args:\n",
        "        n_species (int): number of species\n",
        "        p (nparray): perturbation matrix returned from pert_mat() \n",
        "    \n",
        "    Returns:\n",
        "        (growth rate r, interaction matrix A, susceptibility vector eps,\n",
        "         steady state solutions across all pert conditions)\n",
        "    \"\"\"\n",
        "    if n_species != p.shape[0]:\n",
        "        raise ValueError(\n",
        "            \"Number of species does not match first dimension of pert matrix.\")\n",
        "\n",
        "    rng = np.random.default_rng(seed)\n",
        "    i = 0\n",
        "    while True:\n",
        "        i += 1\n",
        "        # Diagonal of A: a_{ii} = -1, off-diag a_{ij} ~ N(0,1/(4n))\n",
        "        A = rng.normal(0, 1 / (2 * n_species**(0.5)), (n_species, n_species))\n",
        "        np.fill_diagonal(A, -1)\n",
        "\n",
        "        # r: Unif(0, 1)\n",
        "        r = rng.random((n_species, ))\n",
        "\n",
        "        # eps: Unif(-0.2,1)\n",
        "        eps = rng.uniform(-0.2, 1, (n_species, ))\n",
        "\n",
        "        # Steady state solution across all pert conditions\n",
        "        X_ss = -linalg.inv(A) @ (r[:, np.newaxis] + eps[:, np.newaxis] * p)\n",
        "\n",
        "        # Check all solutions are positive\n",
        "        if np.all(X_ss > 0):\n",
        "            break\n",
        "\n",
        "        if i >= 500:\n",
        "            print(\n",
        "                f'''Failed to find an all positive steady-state solutions across all \n",
        "                perturbation conditions after {i} attempts. Return a steady state \n",
        "                solution with negative entries.''')\n",
        "            break\n",
        "\n",
        "    return (r, A, eps, X_ss)  # namedtuple?"
      ],
      "metadata": {
        "id": "3C0v4m_NaxYk"
      },
      "execution_count": null,
      "outputs": []
    },
    {
      "cell_type": "code",
      "source": [
        "x0 = reshape_fortran(0.2 * torch.ones((3,3)), (-1,)) # 3 species, 3 conditions\n",
        "p = torch.eye(3) # 3 single-species perturbations\n",
        "r, A, eps, X_ss = get_ode_params(3, p.numpy(), seed=0)\n",
        "x_true = torch.from_numpy(X_ss.astype('float32').reshape(-1, order='F'))"
      ],
      "metadata": {
        "id": "o2uzQdErb70L"
      },
      "execution_count": null,
      "outputs": []
    },
    {
      "cell_type": "code",
      "source": [
        "print(f'x0: {x0}\\n')\n",
        "print(f'p: {p}\\n')\n",
        "print(f'x_true: {x_true}\\n')"
      ],
      "metadata": {
        "colab": {
          "base_uri": "https://localhost:8080/"
        },
        "id": "xPwetau63PoS",
        "outputId": "7199a051-2d5f-4456-9235-dd4587c4b24b"
      },
      "execution_count": null,
      "outputs": [
        {
          "output_type": "stream",
          "name": "stdout",
          "text": [
            "x0: tensor([0.2000, 0.2000, 0.2000, 0.2000, 0.2000, 0.2000, 0.2000, 0.2000, 0.2000])\n",
            "\n",
            "p: tensor([[1., 0., 0.],\n",
            "        [0., 1., 0.],\n",
            "        [0., 0., 1.]])\n",
            "\n",
            "x_true: tensor([1.9095, 0.9769, 0.9886, 1.0155, 0.7485, 0.5896, 1.1531, 0.9953, 1.3845])\n",
            "\n"
          ]
        }
      ]
    },
    {
      "cell_type": "code",
      "source": [
        "mbpert = MBPert(p)\n",
        "criterion = torch.nn.MSELoss()\n",
        "optimizer = torch.optim.Adam(mbpert.parameters()) # Adam is much better than SGD in this case\n",
        "#optimizer = torch.optim.SGD(mbpert.parameters(), lr=1e-3)"
      ],
      "metadata": {
        "id": "xHT5foEOc23d"
      },
      "execution_count": null,
      "outputs": []
    },
    {
      "cell_type": "code",
      "source": [
        "for i in range(400):\n",
        "    # Forward pass\n",
        "    x_pred = mbpert(x0)\n",
        "\n",
        "    # Compute and print loss\n",
        "    loss = criterion(x_pred, x_true)\n",
        "    if i % 50 == 49:\n",
        "        print(f\"i={i}, loss={loss.item()}, x_pred={x_pred}\") \n",
        "\n",
        "    # Zero gradients, perform a backward pass, and update parameters\n",
        "    optimizer.zero_grad()\n",
        "    loss.backward()\n",
        "    optimizer.step()"
      ],
      "metadata": {
        "colab": {
          "base_uri": "https://localhost:8080/"
        },
        "id": "_A_pp_OfrSyY",
        "outputId": "389c2b10-2c46-4501-8437-f572d015b247"
      },
      "execution_count": null,
      "outputs": [
        {
          "output_type": "stream",
          "name": "stdout",
          "text": [
            "ODE solver did not converge to steady state solution in the given time range.\n",
            "i=49, loss=0.3762568235397339, x_pred=tensor([1.1089e+00, 2.8623e-03, 9.3774e-01, 1.1826e+00, 1.9877e-06, 9.7273e-01,\n",
            "        1.3347e+00, 9.8607e-04, 1.1906e+00], grad_fn=<AddBackward0>)\n",
            "ODE solver did not converge to steady state solution in the given time range.\n",
            "ODE solver did not converge to steady state solution in the given time range.\n",
            "ODE solver did not converge to steady state solution in the given time range.\n",
            "ODE solver did not converge to steady state solution in the given time range.\n",
            "ODE solver did not converge to steady state solution in the given time range.\n",
            "ODE solver did not converge to steady state solution in the given time range.\n",
            "ODE solver did not converge to steady state solution in the given time range.\n",
            "ODE solver did not converge to steady state solution in the given time range.\n",
            "ODE solver did not converge to steady state solution in the given time range.\n",
            "ODE solver did not converge to steady state solution in the given time range.\n",
            "ODE solver did not converge to steady state solution in the given time range.\n",
            "ODE solver did not converge to steady state solution in the given time range.\n",
            "ODE solver did not converge to steady state solution in the given time range.\n",
            "ODE solver did not converge to steady state solution in the given time range.\n",
            "ODE solver did not converge to steady state solution in the given time range.\n",
            "ODE solver did not converge to steady state solution in the given time range.\n",
            "ODE solver did not converge to steady state solution in the given time range.\n",
            "ODE solver did not converge to steady state solution in the given time range.\n",
            "ODE solver did not converge to steady state solution in the given time range.\n",
            "ODE solver did not converge to steady state solution in the given time range.\n",
            "ODE solver did not converge to steady state solution in the given time range.\n",
            "ODE solver did not converge to steady state solution in the given time range.\n",
            "ODE solver did not converge to steady state solution in the given time range.\n",
            "ODE solver did not converge to steady state solution in the given time range.\n",
            "ODE solver did not converge to steady state solution in the given time range.\n",
            "ODE solver did not converge to steady state solution in the given time range.\n",
            "ODE solver did not converge to steady state solution in the given time range.\n",
            "ODE solver did not converge to steady state solution in the given time range.\n",
            "ODE solver did not converge to steady state solution in the given time range.\n",
            "ODE solver did not converge to steady state solution in the given time range.\n",
            "ODE solver did not converge to steady state solution in the given time range.\n",
            "ODE solver did not converge to steady state solution in the given time range.\n",
            "ODE solver did not converge to steady state solution in the given time range.\n",
            "ODE solver did not converge to steady state solution in the given time range.\n",
            "ODE solver did not converge to steady state solution in the given time range.\n",
            "ODE solver did not converge to steady state solution in the given time range.\n",
            "ODE solver did not converge to steady state solution in the given time range.\n",
            "i=99, loss=0.3377875089645386, x_pred=tensor([1.2525e+00, 5.0551e-02, 1.0174e+00, 1.2174e+00, 2.7270e-05, 9.7589e-01,\n",
            "        1.4034e+00, 4.1674e-02, 1.2186e+00], grad_fn=<AddBackward0>)\n",
            "ODE solver did not converge to steady state solution in the given time range.\n",
            "ODE solver did not converge to steady state solution in the given time range.\n",
            "ODE solver did not converge to steady state solution in the given time range.\n",
            "ODE solver did not converge to steady state solution in the given time range.\n",
            "ODE solver did not converge to steady state solution in the given time range.\n",
            "ODE solver did not converge to steady state solution in the given time range.\n",
            "ODE solver did not converge to steady state solution in the given time range.\n",
            "ODE solver did not converge to steady state solution in the given time range.\n",
            "ODE solver did not converge to steady state solution in the given time range.\n",
            "ODE solver did not converge to steady state solution in the given time range.\n",
            "ODE solver did not converge to steady state solution in the given time range.\n",
            "ODE solver did not converge to steady state solution in the given time range.\n",
            "ODE solver did not converge to steady state solution in the given time range.\n",
            "ODE solver did not converge to steady state solution in the given time range.\n",
            "ODE solver did not converge to steady state solution in the given time range.\n",
            "ODE solver did not converge to steady state solution in the given time range.\n",
            "ODE solver did not converge to steady state solution in the given time range.\n",
            "ODE solver did not converge to steady state solution in the given time range.\n",
            "ODE solver did not converge to steady state solution in the given time range.\n",
            "ODE solver did not converge to steady state solution in the given time range.\n",
            "ODE solver did not converge to steady state solution in the given time range.\n",
            "ODE solver did not converge to steady state solution in the given time range.\n",
            "ODE solver did not converge to steady state solution in the given time range.\n",
            "ODE solver did not converge to steady state solution in the given time range.\n",
            "ODE solver did not converge to steady state solution in the given time range.\n",
            "ODE solver did not converge to steady state solution in the given time range.\n",
            "ODE solver did not converge to steady state solution in the given time range.\n",
            "ODE solver did not converge to steady state solution in the given time range.\n",
            "ODE solver did not converge to steady state solution in the given time range.\n",
            "ODE solver did not converge to steady state solution in the given time range.\n",
            "ODE solver did not converge to steady state solution in the given time range.\n",
            "ODE solver did not converge to steady state solution in the given time range.\n",
            "ODE solver did not converge to steady state solution in the given time range.\n",
            "i=149, loss=0.17825253307819366, x_pred=tensor([1.4645, 0.4434, 1.2305, 1.0620, 0.0020, 0.8353, 1.5576, 0.4663, 1.3924],\n",
            "       grad_fn=<AddBackward0>)\n",
            "ODE solver did not converge to steady state solution in the given time range.\n",
            "ODE solver did not converge to steady state solution in the given time range.\n",
            "ODE solver did not converge to steady state solution in the given time range.\n",
            "ODE solver did not converge to steady state solution in the given time range.\n",
            "ODE solver did not converge to steady state solution in the given time range.\n",
            "ODE solver did not converge to steady state solution in the given time range.\n",
            "ODE solver did not converge to steady state solution in the given time range.\n",
            "ODE solver did not converge to steady state solution in the given time range.\n",
            "ODE solver did not converge to steady state solution in the given time range.\n",
            "ODE solver did not converge to steady state solution in the given time range.\n",
            "ODE solver did not converge to steady state solution in the given time range.\n",
            "ODE solver did not converge to steady state solution in the given time range.\n",
            "ODE solver did not converge to steady state solution in the given time range.\n",
            "ODE solver did not converge to steady state solution in the given time range.\n",
            "ODE solver did not converge to steady state solution in the given time range.\n",
            "ODE solver did not converge to steady state solution in the given time range.\n",
            "ODE solver did not converge to steady state solution in the given time range.\n",
            "ODE solver did not converge to steady state solution in the given time range.\n",
            "ODE solver did not converge to steady state solution in the given time range.\n",
            "ODE solver did not converge to steady state solution in the given time range.\n",
            "ODE solver did not converge to steady state solution in the given time range.\n",
            "ODE solver did not converge to steady state solution in the given time range.\n",
            "ODE solver did not converge to steady state solution in the given time range.\n",
            "ODE solver did not converge to steady state solution in the given time range.\n",
            "ODE solver did not converge to steady state solution in the given time range.\n",
            "ODE solver did not converge to steady state solution in the given time range.\n",
            "ODE solver did not converge to steady state solution in the given time range.\n",
            "ODE solver did not converge to steady state solution in the given time range.\n",
            "ODE solver did not converge to steady state solution in the given time range.\n",
            "ODE solver did not converge to steady state solution in the given time range.\n",
            "ODE solver did not converge to steady state solution in the given time range.\n",
            "ODE solver did not converge to steady state solution in the given time range.\n",
            "ODE solver did not converge to steady state solution in the given time range.\n",
            "ODE solver did not converge to steady state solution in the given time range.\n",
            "ODE solver did not converge to steady state solution in the given time range.\n",
            "ODE solver did not converge to steady state solution in the given time range.\n",
            "ODE solver did not converge to steady state solution in the given time range.\n",
            "ODE solver did not converge to steady state solution in the given time range.\n",
            "ODE solver did not converge to steady state solution in the given time range.\n",
            "ODE solver did not converge to steady state solution in the given time range.\n",
            "ODE solver did not converge to steady state solution in the given time range.\n",
            "ODE solver did not converge to steady state solution in the given time range.\n",
            "ODE solver did not converge to steady state solution in the given time range.\n",
            "ODE solver did not converge to steady state solution in the given time range.\n",
            "ODE solver did not converge to steady state solution in the given time range.\n",
            "ODE solver did not converge to steady state solution in the given time range.\n",
            "ODE solver did not converge to steady state solution in the given time range.\n",
            "ODE solver did not converge to steady state solution in the given time range.\n",
            "ODE solver did not converge to steady state solution in the given time range.\n",
            "ODE solver did not converge to steady state solution in the given time range.\n",
            "i=199, loss=0.09179969131946564, x_pred=tensor([1.4927, 0.8265, 1.2610, 1.0199, 0.1442, 0.7997, 1.5049, 0.8521, 1.3376],\n",
            "       grad_fn=<AddBackward0>)\n",
            "ODE solver did not converge to steady state solution in the given time range.\n",
            "ODE solver did not converge to steady state solution in the given time range.\n",
            "ODE solver did not converge to steady state solution in the given time range.\n",
            "ODE solver did not converge to steady state solution in the given time range.\n",
            "ODE solver did not converge to steady state solution in the given time range.\n",
            "ODE solver did not converge to steady state solution in the given time range.\n",
            "ODE solver did not converge to steady state solution in the given time range.\n",
            "ODE solver did not converge to steady state solution in the given time range.\n",
            "ODE solver did not converge to steady state solution in the given time range.\n",
            "ODE solver did not converge to steady state solution in the given time range.\n",
            "ODE solver did not converge to steady state solution in the given time range.\n",
            "ODE solver did not converge to steady state solution in the given time range.\n",
            "ODE solver did not converge to steady state solution in the given time range.\n",
            "ODE solver did not converge to steady state solution in the given time range.\n",
            "ODE solver did not converge to steady state solution in the given time range.\n",
            "ODE solver did not converge to steady state solution in the given time range.\n",
            "ODE solver did not converge to steady state solution in the given time range.\n",
            "ODE solver did not converge to steady state solution in the given time range.\n",
            "ODE solver did not converge to steady state solution in the given time range.\n",
            "ODE solver did not converge to steady state solution in the given time range.\n",
            "ODE solver did not converge to steady state solution in the given time range.\n",
            "ODE solver did not converge to steady state solution in the given time range.\n",
            "ODE solver did not converge to steady state solution in the given time range.\n",
            "ODE solver did not converge to steady state solution in the given time range.\n",
            "ODE solver did not converge to steady state solution in the given time range.\n",
            "ODE solver did not converge to steady state solution in the given time range.\n",
            "ODE solver did not converge to steady state solution in the given time range.\n",
            "ODE solver did not converge to steady state solution in the given time range.\n",
            "ODE solver did not converge to steady state solution in the given time range.\n",
            "ODE solver did not converge to steady state solution in the given time range.\n",
            "ODE solver did not converge to steady state solution in the given time range.\n",
            "ODE solver did not converge to steady state solution in the given time range.\n",
            "ODE solver did not converge to steady state solution in the given time range.\n",
            "ODE solver did not converge to steady state solution in the given time range.\n",
            "ODE solver did not converge to steady state solution in the given time range.\n",
            "ODE solver did not converge to steady state solution in the given time range.\n",
            "ODE solver did not converge to steady state solution in the given time range.\n",
            "ODE solver did not converge to steady state solution in the given time range.\n",
            "ODE solver did not converge to steady state solution in the given time range.\n",
            "ODE solver did not converge to steady state solution in the given time range.\n",
            "ODE solver did not converge to steady state solution in the given time range.\n",
            "ODE solver did not converge to steady state solution in the given time range.\n",
            "ODE solver did not converge to steady state solution in the given time range.\n",
            "ODE solver did not converge to steady state solution in the given time range.\n",
            "ODE solver did not converge to steady state solution in the given time range.\n",
            "ODE solver did not converge to steady state solution in the given time range.\n",
            "ODE solver did not converge to steady state solution in the given time range.\n",
            "ODE solver did not converge to steady state solution in the given time range.\n",
            "ODE solver did not converge to steady state solution in the given time range.\n",
            "ODE solver did not converge to steady state solution in the given time range.\n",
            "i=249, loss=0.05398855358362198, x_pred=tensor([1.5100, 1.0251, 1.1786, 1.1109, 0.4633, 0.8578, 1.4471, 1.0309, 1.1899],\n",
            "       grad_fn=<AddBackward0>)\n",
            "ODE solver did not converge to steady state solution in the given time range.\n",
            "ODE solver did not converge to steady state solution in the given time range.\n",
            "ODE solver did not converge to steady state solution in the given time range.\n",
            "ODE solver did not converge to steady state solution in the given time range.\n",
            "ODE solver did not converge to steady state solution in the given time range.\n",
            "ODE solver did not converge to steady state solution in the given time range.\n",
            "ODE solver did not converge to steady state solution in the given time range.\n",
            "ODE solver did not converge to steady state solution in the given time range.\n",
            "ODE solver did not converge to steady state solution in the given time range.\n",
            "ODE solver did not converge to steady state solution in the given time range.\n",
            "ODE solver did not converge to steady state solution in the given time range.\n",
            "ODE solver did not converge to steady state solution in the given time range.\n",
            "ODE solver did not converge to steady state solution in the given time range.\n",
            "ODE solver did not converge to steady state solution in the given time range.\n",
            "ODE solver did not converge to steady state solution in the given time range.\n",
            "ODE solver did not converge to steady state solution in the given time range.\n",
            "ODE solver did not converge to steady state solution in the given time range.\n",
            "ODE solver did not converge to steady state solution in the given time range.\n",
            "ODE solver did not converge to steady state solution in the given time range.\n",
            "ODE solver did not converge to steady state solution in the given time range.\n",
            "ODE solver did not converge to steady state solution in the given time range.\n",
            "ODE solver did not converge to steady state solution in the given time range.\n",
            "ODE solver did not converge to steady state solution in the given time range.\n",
            "ODE solver did not converge to steady state solution in the given time range.\n",
            "ODE solver did not converge to steady state solution in the given time range.\n",
            "ODE solver did not converge to steady state solution in the given time range.\n",
            "ODE solver did not converge to steady state solution in the given time range.\n",
            "ODE solver did not converge to steady state solution in the given time range.\n",
            "ODE solver did not converge to steady state solution in the given time range.\n",
            "ODE solver did not converge to steady state solution in the given time range.\n",
            "ODE solver did not converge to steady state solution in the given time range.\n",
            "ODE solver did not converge to steady state solution in the given time range.\n",
            "ODE solver did not converge to steady state solution in the given time range.\n",
            "ODE solver did not converge to steady state solution in the given time range.\n",
            "ODE solver did not converge to steady state solution in the given time range.\n",
            "ODE solver did not converge to steady state solution in the given time range.\n",
            "ODE solver did not converge to steady state solution in the given time range.\n",
            "ODE solver did not converge to steady state solution in the given time range.\n",
            "ODE solver did not converge to steady state solution in the given time range.\n",
            "ODE solver did not converge to steady state solution in the given time range.\n",
            "ODE solver did not converge to steady state solution in the given time range.\n",
            "ODE solver did not converge to steady state solution in the given time range.\n",
            "ODE solver did not converge to steady state solution in the given time range.\n",
            "ODE solver did not converge to steady state solution in the given time range.\n",
            "ODE solver did not converge to steady state solution in the given time range.\n",
            "ODE solver did not converge to steady state solution in the given time range.\n",
            "ODE solver did not converge to steady state solution in the given time range.\n",
            "ODE solver did not converge to steady state solution in the given time range.\n",
            "ODE solver did not converge to steady state solution in the given time range.\n",
            "ODE solver did not converge to steady state solution in the given time range.\n",
            "i=299, loss=0.047615233808755875, x_pred=tensor([1.5559, 1.0478, 1.1336, 1.1253, 0.5308, 0.8312, 1.4501, 1.0448, 1.1218],\n",
            "       grad_fn=<AddBackward0>)\n",
            "ODE solver did not converge to steady state solution in the given time range.\n",
            "ODE solver did not converge to steady state solution in the given time range.\n",
            "ODE solver did not converge to steady state solution in the given time range.\n",
            "ODE solver did not converge to steady state solution in the given time range.\n",
            "ODE solver did not converge to steady state solution in the given time range.\n",
            "ODE solver did not converge to steady state solution in the given time range.\n",
            "ODE solver did not converge to steady state solution in the given time range.\n",
            "ODE solver did not converge to steady state solution in the given time range.\n",
            "ODE solver did not converge to steady state solution in the given time range.\n",
            "ODE solver did not converge to steady state solution in the given time range.\n",
            "ODE solver did not converge to steady state solution in the given time range.\n",
            "ODE solver did not converge to steady state solution in the given time range.\n",
            "ODE solver did not converge to steady state solution in the given time range.\n",
            "ODE solver did not converge to steady state solution in the given time range.\n",
            "ODE solver did not converge to steady state solution in the given time range.\n",
            "ODE solver did not converge to steady state solution in the given time range.\n",
            "ODE solver did not converge to steady state solution in the given time range.\n",
            "ODE solver did not converge to steady state solution in the given time range.\n",
            "ODE solver did not converge to steady state solution in the given time range.\n",
            "ODE solver did not converge to steady state solution in the given time range.\n",
            "ODE solver did not converge to steady state solution in the given time range.\n",
            "ODE solver did not converge to steady state solution in the given time range.\n",
            "ODE solver did not converge to steady state solution in the given time range.\n",
            "ODE solver did not converge to steady state solution in the given time range.\n",
            "ODE solver did not converge to steady state solution in the given time range.\n",
            "ODE solver did not converge to steady state solution in the given time range.\n",
            "ODE solver did not converge to steady state solution in the given time range.\n",
            "ODE solver did not converge to steady state solution in the given time range.\n",
            "ODE solver did not converge to steady state solution in the given time range.\n",
            "ODE solver did not converge to steady state solution in the given time range.\n",
            "ODE solver did not converge to steady state solution in the given time range.\n",
            "ODE solver did not converge to steady state solution in the given time range.\n",
            "ODE solver did not converge to steady state solution in the given time range.\n",
            "ODE solver did not converge to steady state solution in the given time range.\n",
            "ODE solver did not converge to steady state solution in the given time range.\n",
            "ODE solver did not converge to steady state solution in the given time range.\n",
            "ODE solver did not converge to steady state solution in the given time range.\n",
            "ODE solver did not converge to steady state solution in the given time range.\n",
            "ODE solver did not converge to steady state solution in the given time range.\n",
            "ODE solver did not converge to steady state solution in the given time range.\n",
            "ODE solver did not converge to steady state solution in the given time range.\n",
            "ODE solver did not converge to steady state solution in the given time range.\n",
            "ODE solver did not converge to steady state solution in the given time range.\n",
            "ODE solver did not converge to steady state solution in the given time range.\n",
            "ODE solver did not converge to steady state solution in the given time range.\n",
            "ODE solver did not converge to steady state solution in the given time range.\n",
            "ODE solver did not converge to steady state solution in the given time range.\n",
            "ODE solver did not converge to steady state solution in the given time range.\n",
            "ODE solver did not converge to steady state solution in the given time range.\n",
            "ODE solver did not converge to steady state solution in the given time range.\n",
            "i=349, loss=0.04387686774134636, x_pred=tensor([1.5789, 1.0494, 1.1283, 1.1129, 0.5493, 0.8141, 1.4447, 1.0452, 1.1129],\n",
            "       grad_fn=<AddBackward0>)\n",
            "ODE solver did not converge to steady state solution in the given time range.\n",
            "ODE solver did not converge to steady state solution in the given time range.\n",
            "ODE solver did not converge to steady state solution in the given time range.\n",
            "ODE solver did not converge to steady state solution in the given time range.\n",
            "ODE solver did not converge to steady state solution in the given time range.\n",
            "ODE solver did not converge to steady state solution in the given time range.\n",
            "ODE solver did not converge to steady state solution in the given time range.\n",
            "ODE solver did not converge to steady state solution in the given time range.\n",
            "ODE solver did not converge to steady state solution in the given time range.\n",
            "ODE solver did not converge to steady state solution in the given time range.\n",
            "ODE solver did not converge to steady state solution in the given time range.\n",
            "ODE solver did not converge to steady state solution in the given time range.\n",
            "ODE solver did not converge to steady state solution in the given time range.\n",
            "ODE solver did not converge to steady state solution in the given time range.\n",
            "ODE solver did not converge to steady state solution in the given time range.\n",
            "ODE solver did not converge to steady state solution in the given time range.\n",
            "ODE solver did not converge to steady state solution in the given time range.\n",
            "ODE solver did not converge to steady state solution in the given time range.\n",
            "ODE solver did not converge to steady state solution in the given time range.\n",
            "ODE solver did not converge to steady state solution in the given time range.\n",
            "ODE solver did not converge to steady state solution in the given time range.\n",
            "ODE solver did not converge to steady state solution in the given time range.\n",
            "ODE solver did not converge to steady state solution in the given time range.\n",
            "ODE solver did not converge to steady state solution in the given time range.\n",
            "ODE solver did not converge to steady state solution in the given time range.\n",
            "ODE solver did not converge to steady state solution in the given time range.\n",
            "ODE solver did not converge to steady state solution in the given time range.\n",
            "ODE solver did not converge to steady state solution in the given time range.\n",
            "ODE solver did not converge to steady state solution in the given time range.\n",
            "ODE solver did not converge to steady state solution in the given time range.\n",
            "ODE solver did not converge to steady state solution in the given time range.\n",
            "ODE solver did not converge to steady state solution in the given time range.\n",
            "ODE solver did not converge to steady state solution in the given time range.\n",
            "ODE solver did not converge to steady state solution in the given time range.\n",
            "ODE solver did not converge to steady state solution in the given time range.\n",
            "ODE solver did not converge to steady state solution in the given time range.\n",
            "ODE solver did not converge to steady state solution in the given time range.\n",
            "ODE solver did not converge to steady state solution in the given time range.\n",
            "ODE solver did not converge to steady state solution in the given time range.\n",
            "ODE solver did not converge to steady state solution in the given time range.\n",
            "ODE solver did not converge to steady state solution in the given time range.\n",
            "ODE solver did not converge to steady state solution in the given time range.\n",
            "ODE solver did not converge to steady state solution in the given time range.\n",
            "ODE solver did not converge to steady state solution in the given time range.\n",
            "ODE solver did not converge to steady state solution in the given time range.\n",
            "ODE solver did not converge to steady state solution in the given time range.\n",
            "ODE solver did not converge to steady state solution in the given time range.\n",
            "ODE solver did not converge to steady state solution in the given time range.\n",
            "ODE solver did not converge to steady state solution in the given time range.\n",
            "ODE solver did not converge to steady state solution in the given time range.\n",
            "i=399, loss=0.040698759257793427, x_pred=tensor([1.5908, 1.0452, 1.1275, 1.0964, 0.5607, 0.8008, 1.4342, 1.0424, 1.1140],\n",
            "       grad_fn=<AddBackward0>)\n"
          ]
        }
      ]
    },
    {
      "cell_type": "code",
      "source": [
        "print(x_true)\n",
        "print(f'Estimated A: {mbpert.A}\\nTrue: {A}\\n')\n",
        "print(f'Estimated r:{mbpert.r}\\nTrue: {r}\\n')\n",
        "print(f'Estimated eps: {mbpert.eps}\\nTrue: {eps}\\n')"
      ],
      "metadata": {
        "colab": {
          "base_uri": "https://localhost:8080/"
        },
        "id": "7k458EjfONjF",
        "outputId": "26ca41ab-928f-4588-8104-0485fb03c639"
      },
      "execution_count": null,
      "outputs": [
        {
          "output_type": "stream",
          "name": "stdout",
          "text": [
            "tensor([1.9095, 0.9769, 0.9886, 1.0155, 0.7485, 0.5896, 1.1531, 0.9953, 1.3845])\n",
            "Estimated A: Parameter containing:\n",
            "tensor([[-0.6572, -0.0185,  0.2996],\n",
            "        [ 0.1113, -1.2442,  0.4821],\n",
            "        [ 0.2032, -0.1336, -1.0052]], requires_grad=True)\n",
            "True: [[-1.         -0.03813539  0.18487409]\n",
            " [ 0.03028206 -1.          0.1043835 ]\n",
            " [ 0.37643239  0.27339872 -1.        ]]\n",
            "\n",
            "Estimated r:Parameter containing:\n",
            "tensor([0.3427, 0.3189, 0.5595], requires_grad=True)\n",
            "True: [0.93507242 0.81585355 0.0027385 ]\n",
            "\n",
            "Estimated eps: Parameter containing:\n",
            "tensor([0.7611, 0.8222, 0.8329], requires_grad=True)\n",
            "True: [ 0.82888513 -0.15969731  0.67558654]\n",
            "\n"
          ]
        }
      ]
    },
    {
      "cell_type": "markdown",
      "source": [
        "**Test ODE solver**"
      ],
      "metadata": {
        "id": "z-KZC0Btlqld"
      }
    },
    {
      "cell_type": "code",
      "source": [
        "r.dtype, p.dtype"
      ],
      "metadata": {
        "colab": {
          "base_uri": "https://localhost:8080/"
        },
        "id": "OcclJhfYtnvU",
        "outputId": "ea7933a9-48ab-4dcd-cc64-a30be980094d"
      },
      "execution_count": null,
      "outputs": [
        {
          "output_type": "execute_result",
          "data": {
            "text/plain": [
              "(dtype('float64'), torch.float32)"
            ]
          },
          "metadata": {},
          "execution_count": 9
        }
      ]
    },
    {
      "cell_type": "code",
      "source": [
        "r, A, eps, X_ss = get_ode_params(3, p.numpy(), seed=0)\n",
        "solver = RK45(glvp, [0,20], args=(torch.from_numpy(r.astype('float32')), torch.from_numpy(A.astype('float32')), torch.from_numpy(eps.astype('float32')), p))"
      ],
      "metadata": {
        "id": "w1cP9iG6jPI2"
      },
      "execution_count": null,
      "outputs": []
    },
    {
      "cell_type": "code",
      "source": [
        "x_pred = solver.solve(x0)"
      ],
      "metadata": {
        "id": "VIWJFR8Ysn3I"
      },
      "execution_count": null,
      "outputs": []
    },
    {
      "cell_type": "code",
      "source": [
        "x_pred"
      ],
      "metadata": {
        "colab": {
          "base_uri": "https://localhost:8080/"
        },
        "id": "c77I_qV7xxbd",
        "outputId": "bb9f4d3b-28df-4b02-8870-0250713767ae"
      },
      "execution_count": null,
      "outputs": [
        {
          "output_type": "execute_result",
          "data": {
            "text/plain": [
              "tensor([1.9110, 0.9769, 0.9880, 1.0154, 0.7484, 0.5894, 1.1531, 0.9953, 1.3845])"
            ]
          },
          "metadata": {},
          "execution_count": 111
        }
      ]
    },
    {
      "cell_type": "code",
      "source": [
        "# Now use scipy's solve_ivp\n",
        "sol = solve_ivp(glvp2, [0, 20], x0.numpy(), args=(r, A, eps, p.numpy()))"
      ],
      "metadata": {
        "id": "ZbtxzDHwx1vI"
      },
      "execution_count": null,
      "outputs": []
    },
    {
      "cell_type": "code",
      "source": [
        "sol.y[:,-1] # should be similar to x_pred"
      ],
      "metadata": {
        "colab": {
          "base_uri": "https://localhost:8080/"
        },
        "id": "OUk3yf6Uy_a-",
        "outputId": "26c67d60-23a3-4b98-b8a1-cc29193f1887"
      },
      "execution_count": null,
      "outputs": [
        {
          "output_type": "execute_result",
          "data": {
            "text/plain": [
              "array([1.91097956, 0.97688841, 0.98805588, 1.01544636, 0.74836967,\n",
              "       0.58935627, 1.15307287, 0.99528851, 1.38448868])"
            ]
          },
          "metadata": {},
          "execution_count": 113
        }
      ]
    },
    {
      "cell_type": "markdown",
      "source": [
        "**General testing**"
      ],
      "metadata": {
        "id": "9O-KIGTI0KGb"
      }
    },
    {
      "cell_type": "code",
      "source": [
        "torch.nn.Parameter(torch.randn((2,2)))"
      ],
      "metadata": {
        "colab": {
          "base_uri": "https://localhost:8080/"
        },
        "id": "FSiCUCFXq3qX",
        "outputId": "3a3fecb9-6d21-416f-ffd2-840e78d4934b"
      },
      "execution_count": null,
      "outputs": [
        {
          "output_type": "execute_result",
          "data": {
            "text/plain": [
              "Parameter containing:\n",
              "tensor([[-0.9155,  0.6164],\n",
              "        [ 0.1008,  0.7246]], requires_grad=True)"
            ]
          },
          "metadata": {},
          "execution_count": 5
        }
      ]
    },
    {
      "cell_type": "code",
      "source": [
        "A = nn.Parameter(torch.randn(3, 3))"
      ],
      "metadata": {
        "id": "ZqfpQSbDrUeK"
      },
      "execution_count": null,
      "outputs": []
    },
    {
      "cell_type": "code",
      "source": [
        "A.numel()"
      ],
      "metadata": {
        "colab": {
          "base_uri": "https://localhost:8080/"
        },
        "id": "G2Hp0OO1aB5A",
        "outputId": "4faedcf3-a07d-4089-9f3d-ea11b3b889bf"
      },
      "execution_count": null,
      "outputs": [
        {
          "output_type": "execute_result",
          "data": {
            "text/plain": [
              "9"
            ]
          },
          "metadata": {},
          "execution_count": 5
        }
      ]
    },
    {
      "cell_type": "code",
      "source": [
        "A.data.fill_diagonal_(-1)"
      ],
      "metadata": {
        "colab": {
          "base_uri": "https://localhost:8080/"
        },
        "id": "eYUM8sB7zSi-",
        "outputId": "97803dda-cc23-4326-d487-3d06afd5d147"
      },
      "execution_count": null,
      "outputs": [
        {
          "output_type": "execute_result",
          "data": {
            "text/plain": [
              "tensor([[-1.0000,  1.3261,  1.2774],\n",
              "        [-0.9245, -1.0000, -0.0726],\n",
              "        [-1.1760,  0.0340, -1.0000]])"
            ]
          },
          "metadata": {},
          "execution_count": 13
        }
      ]
    },
    {
      "cell_type": "code",
      "source": [
        "A.dtype"
      ],
      "metadata": {
        "colab": {
          "base_uri": "https://localhost:8080/"
        },
        "id": "PB7KU9XUvT7J",
        "outputId": "76d35413-c7f1-4f90-cc97-8f9742aff8c5"
      },
      "execution_count": null,
      "outputs": [
        {
          "output_type": "execute_result",
          "data": {
            "text/plain": [
              "torch.float32"
            ]
          },
          "metadata": {},
          "execution_count": 6
        }
      ]
    },
    {
      "cell_type": "code",
      "source": [
        "a = torch.tensor([1,1,1])\n",
        "a"
      ],
      "metadata": {
        "colab": {
          "base_uri": "https://localhost:8080/"
        },
        "id": "zKtDXZzRvUcN",
        "outputId": "7eca4817-897a-4c18-bbfa-3edba728ae39"
      },
      "execution_count": null,
      "outputs": [
        {
          "output_type": "execute_result",
          "data": {
            "text/plain": [
              "tensor([1, 1, 1])"
            ]
          },
          "metadata": {},
          "execution_count": 2
        }
      ]
    },
    {
      "cell_type": "code",
      "source": [
        "a[:,None].shape"
      ],
      "metadata": {
        "colab": {
          "base_uri": "https://localhost:8080/"
        },
        "id": "rO5Cifqf6_JW",
        "outputId": "573799b8-06e9-4e6c-e7f3-fdcc8f840fdf"
      },
      "execution_count": null,
      "outputs": [
        {
          "output_type": "execute_result",
          "data": {
            "text/plain": [
              "torch.Size([3, 1])"
            ]
          },
          "metadata": {},
          "execution_count": 31
        }
      ]
    },
    {
      "cell_type": "code",
      "source": [
        "b = torch.arange(1,16).reshape(3,5)"
      ],
      "metadata": {
        "id": "x09yuKbD7CAp"
      },
      "execution_count": null,
      "outputs": []
    },
    {
      "cell_type": "code",
      "source": [
        "b"
      ],
      "metadata": {
        "colab": {
          "base_uri": "https://localhost:8080/"
        },
        "id": "xh1Dggpd7TrY",
        "outputId": "d8a233d8-1fef-40f5-e8b5-fb334bc45bfa"
      },
      "execution_count": null,
      "outputs": [
        {
          "output_type": "execute_result",
          "data": {
            "text/plain": [
              "tensor([[ 1,  2,  3,  4,  5],\n",
              "        [ 6,  7,  8,  9, 10],\n",
              "        [11, 12, 13, 14, 15]])"
            ]
          },
          "metadata": {},
          "execution_count": 4
        }
      ]
    },
    {
      "cell_type": "code",
      "source": [
        "a[:,None] + b"
      ],
      "metadata": {
        "colab": {
          "base_uri": "https://localhost:8080/"
        },
        "id": "KIDiMSgl71Ah",
        "outputId": "3086eb08-62a4-4f06-b7de-d7ce6466800f"
      },
      "execution_count": null,
      "outputs": [
        {
          "output_type": "execute_result",
          "data": {
            "text/plain": [
              "tensor([[ 2,  3,  4,  5,  6],\n",
              "        [ 7,  8,  9, 10, 11],\n",
              "        [12, 13, 14, 15, 16]])"
            ]
          },
          "metadata": {},
          "execution_count": 32
        }
      ]
    },
    {
      "cell_type": "code",
      "source": [
        "(a[:,None] + 1) * b"
      ],
      "metadata": {
        "colab": {
          "base_uri": "https://localhost:8080/"
        },
        "id": "kOquloqz8TqL",
        "outputId": "b0f31f23-9208-4f15-e4b8-0a1f0b37e62d"
      },
      "execution_count": null,
      "outputs": [
        {
          "output_type": "execute_result",
          "data": {
            "text/plain": [
              "tensor([[ 2,  4,  6,  8, 10],\n",
              "        [12, 14, 16, 18, 20],\n",
              "        [22, 24, 26, 28, 30]])"
            ]
          },
          "metadata": {},
          "execution_count": 34
        }
      ]
    },
    {
      "cell_type": "code",
      "source": [
        "torch.abs(torch.tensor(torch.inf)) > 1e6"
      ],
      "metadata": {
        "colab": {
          "base_uri": "https://localhost:8080/"
        },
        "id": "LWTttjcFSK0_",
        "outputId": "fd2a44d2-8c94-4e46-ce39-a31725fdba85"
      },
      "execution_count": null,
      "outputs": [
        {
          "output_type": "execute_result",
          "data": {
            "text/plain": [
              "tensor(True)"
            ]
          },
          "metadata": {},
          "execution_count": 25
        }
      ]
    },
    {
      "cell_type": "code",
      "source": [
        "a = torch.rand(3,3)"
      ],
      "metadata": {
        "id": "icpkxbqmdbvm"
      },
      "execution_count": null,
      "outputs": []
    },
    {
      "cell_type": "code",
      "source": [
        "a"
      ],
      "metadata": {
        "colab": {
          "base_uri": "https://localhost:8080/"
        },
        "id": "wDKMi149l7c_",
        "outputId": "03778160-e5b1-43ef-9d2a-ccffdd47d062"
      },
      "execution_count": null,
      "outputs": [
        {
          "output_type": "execute_result",
          "data": {
            "text/plain": [
              "tensor([[0.4725, 0.2918, 0.8230],\n",
              "        [0.3189, 0.0867, 0.9742],\n",
              "        [0.6353, 0.7285, 0.5710]])"
            ]
          },
          "metadata": {},
          "execution_count": 38
        }
      ]
    },
    {
      "cell_type": "code",
      "source": [
        "b = torch.t(a)"
      ],
      "metadata": {
        "id": "lE9P_cqfoKLy"
      },
      "execution_count": null,
      "outputs": []
    },
    {
      "cell_type": "code",
      "source": [
        "a[0,0] = 99\n",
        "a"
      ],
      "metadata": {
        "colab": {
          "base_uri": "https://localhost:8080/"
        },
        "id": "MBHuMudAoMVh",
        "outputId": "41c09c8b-df52-4303-f955-00955a2b5acf"
      },
      "execution_count": null,
      "outputs": [
        {
          "output_type": "execute_result",
          "data": {
            "text/plain": [
              "tensor([[9.9000e+01, 2.9181e-01, 8.2298e-01],\n",
              "        [3.1887e-01, 8.6709e-02, 9.7421e-01],\n",
              "        [6.3533e-01, 7.2852e-01, 5.7097e-01]])"
            ]
          },
          "metadata": {},
          "execution_count": 40
        }
      ]
    },
    {
      "cell_type": "code",
      "source": [
        "b"
      ],
      "metadata": {
        "colab": {
          "base_uri": "https://localhost:8080/"
        },
        "id": "XhpXvGk9oPwU",
        "outputId": "9d63e2f3-a419-474f-a506-5c75f3bef508"
      },
      "execution_count": null,
      "outputs": [
        {
          "output_type": "execute_result",
          "data": {
            "text/plain": [
              "tensor([[9.9000e+01, 3.1887e-01, 6.3533e-01],\n",
              "        [2.9181e-01, 8.6709e-02, 7.2852e-01],\n",
              "        [8.2298e-01, 9.7421e-01, 5.7097e-01]])"
            ]
          },
          "metadata": {},
          "execution_count": 41
        }
      ]
    },
    {
      "cell_type": "code",
      "source": [
        ""
      ],
      "metadata": {
        "id": "0Av2fuJkoQ6r"
      },
      "execution_count": null,
      "outputs": []
    }
  ]
}